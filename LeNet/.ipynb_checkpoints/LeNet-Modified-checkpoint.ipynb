{
 "cells": [
  {
   "cell_type": "markdown",
   "metadata": {},
   "source": [
    "### Code Implementation"
   ]
  },
  {
   "cell_type": "code",
   "execution_count": 1,
   "metadata": {},
   "outputs": [
    {
     "name": "stderr",
     "output_type": "stream",
     "text": [
      "Using TensorFlow backend.\n",
      "C:\\Users\\Amit Kumar\\anaconda3\\envs\\lenet\\lib\\site-packages\\tensorflow\\python\\framework\\dtypes.py:516: FutureWarning: Passing (type, 1) or '1type' as a synonym of type is deprecated; in a future version of numpy, it will be understood as (type, (1,)) / '(1,)type'.\n",
      "  _np_qint8 = np.dtype([(\"qint8\", np.int8, 1)])\n",
      "C:\\Users\\Amit Kumar\\anaconda3\\envs\\lenet\\lib\\site-packages\\tensorflow\\python\\framework\\dtypes.py:517: FutureWarning: Passing (type, 1) or '1type' as a synonym of type is deprecated; in a future version of numpy, it will be understood as (type, (1,)) / '(1,)type'.\n",
      "  _np_quint8 = np.dtype([(\"quint8\", np.uint8, 1)])\n",
      "C:\\Users\\Amit Kumar\\anaconda3\\envs\\lenet\\lib\\site-packages\\tensorflow\\python\\framework\\dtypes.py:518: FutureWarning: Passing (type, 1) or '1type' as a synonym of type is deprecated; in a future version of numpy, it will be understood as (type, (1,)) / '(1,)type'.\n",
      "  _np_qint16 = np.dtype([(\"qint16\", np.int16, 1)])\n",
      "C:\\Users\\Amit Kumar\\anaconda3\\envs\\lenet\\lib\\site-packages\\tensorflow\\python\\framework\\dtypes.py:519: FutureWarning: Passing (type, 1) or '1type' as a synonym of type is deprecated; in a future version of numpy, it will be understood as (type, (1,)) / '(1,)type'.\n",
      "  _np_quint16 = np.dtype([(\"quint16\", np.uint16, 1)])\n",
      "C:\\Users\\Amit Kumar\\anaconda3\\envs\\lenet\\lib\\site-packages\\tensorflow\\python\\framework\\dtypes.py:520: FutureWarning: Passing (type, 1) or '1type' as a synonym of type is deprecated; in a future version of numpy, it will be understood as (type, (1,)) / '(1,)type'.\n",
      "  _np_qint32 = np.dtype([(\"qint32\", np.int32, 1)])\n",
      "C:\\Users\\Amit Kumar\\anaconda3\\envs\\lenet\\lib\\site-packages\\tensorflow\\python\\framework\\dtypes.py:525: FutureWarning: Passing (type, 1) or '1type' as a synonym of type is deprecated; in a future version of numpy, it will be understood as (type, (1,)) / '(1,)type'.\n",
      "  np_resource = np.dtype([(\"resource\", np.ubyte, 1)])\n",
      "C:\\Users\\Amit Kumar\\anaconda3\\envs\\lenet\\lib\\site-packages\\tensorboard\\compat\\tensorflow_stub\\dtypes.py:541: FutureWarning: Passing (type, 1) or '1type' as a synonym of type is deprecated; in a future version of numpy, it will be understood as (type, (1,)) / '(1,)type'.\n",
      "  _np_qint8 = np.dtype([(\"qint8\", np.int8, 1)])\n",
      "C:\\Users\\Amit Kumar\\anaconda3\\envs\\lenet\\lib\\site-packages\\tensorboard\\compat\\tensorflow_stub\\dtypes.py:542: FutureWarning: Passing (type, 1) or '1type' as a synonym of type is deprecated; in a future version of numpy, it will be understood as (type, (1,)) / '(1,)type'.\n",
      "  _np_quint8 = np.dtype([(\"quint8\", np.uint8, 1)])\n",
      "C:\\Users\\Amit Kumar\\anaconda3\\envs\\lenet\\lib\\site-packages\\tensorboard\\compat\\tensorflow_stub\\dtypes.py:543: FutureWarning: Passing (type, 1) or '1type' as a synonym of type is deprecated; in a future version of numpy, it will be understood as (type, (1,)) / '(1,)type'.\n",
      "  _np_qint16 = np.dtype([(\"qint16\", np.int16, 1)])\n",
      "C:\\Users\\Amit Kumar\\anaconda3\\envs\\lenet\\lib\\site-packages\\tensorboard\\compat\\tensorflow_stub\\dtypes.py:544: FutureWarning: Passing (type, 1) or '1type' as a synonym of type is deprecated; in a future version of numpy, it will be understood as (type, (1,)) / '(1,)type'.\n",
      "  _np_quint16 = np.dtype([(\"quint16\", np.uint16, 1)])\n",
      "C:\\Users\\Amit Kumar\\anaconda3\\envs\\lenet\\lib\\site-packages\\tensorboard\\compat\\tensorflow_stub\\dtypes.py:545: FutureWarning: Passing (type, 1) or '1type' as a synonym of type is deprecated; in a future version of numpy, it will be understood as (type, (1,)) / '(1,)type'.\n",
      "  _np_qint32 = np.dtype([(\"qint32\", np.int32, 1)])\n",
      "C:\\Users\\Amit Kumar\\anaconda3\\envs\\lenet\\lib\\site-packages\\tensorboard\\compat\\tensorflow_stub\\dtypes.py:550: FutureWarning: Passing (type, 1) or '1type' as a synonym of type is deprecated; in a future version of numpy, it will be understood as (type, (1,)) / '(1,)type'.\n",
      "  np_resource = np.dtype([(\"resource\", np.ubyte, 1)])\n"
     ]
    }
   ],
   "source": [
    "import keras\n",
    "from keras.datasets import mnist\n",
    "from keras.layers import Conv2D, MaxPooling2D\n",
    "from keras.layers import Dense, Flatten\n",
    "from keras.models import Sequential"
   ]
  },
  {
   "cell_type": "code",
   "execution_count": 2,
   "metadata": {},
   "outputs": [],
   "source": [
    "# Loading the dataset and perform splitting\n",
    "(x_train, y_train), (x_test, y_test) = mnist.load_data()\n",
    "# Peforming reshaping operation\n",
    "x_train = x_train.reshape(x_train.shape[0], 28, 28, 1)\n",
    "x_test = x_test.reshape(x_test.shape[0], 28, 28, 1)\n",
    "\n",
    "# Normalization\n",
    "x_train = x_train / 255\n",
    "x_test = x_test / 255\n",
    "\n",
    "# One Hot Encoding\n",
    "y_train = keras.utils.to_categorical(y_train, 10)\n",
    "y_test = keras.utils.to_categorical(y_test, 10)"
   ]
  },
  {
   "cell_type": "code",
   "execution_count": 3,
   "metadata": {},
   "outputs": [
    {
     "name": "stdout",
     "output_type": "stream",
     "text": [
      "WARNING:tensorflow:From C:\\Users\\Amit Kumar\\anaconda3\\envs\\lenet\\lib\\site-packages\\keras\\backend\\tensorflow_backend.py:4070: The name tf.nn.max_pool is deprecated. Please use tf.nn.max_pool2d instead.\n",
      "\n",
      "Model: \"sequential_1\"\n",
      "_________________________________________________________________\n",
      "Layer (type)                 Output Shape              Param #   \n",
      "=================================================================\n",
      "conv2d_1 (Conv2D)            (None, 26, 26, 8)         80        \n",
      "_________________________________________________________________\n",
      "conv2d_2 (Conv2D)            (None, 24, 24, 8)         584       \n",
      "_________________________________________________________________\n",
      "max_pooling2d_1 (MaxPooling2 (None, 12, 12, 8)         0         \n",
      "_________________________________________________________________\n",
      "conv2d_3 (Conv2D)            (None, 10, 10, 16)        1168      \n",
      "_________________________________________________________________\n",
      "conv2d_4 (Conv2D)            (None, 8, 8, 16)          2320      \n",
      "_________________________________________________________________\n",
      "max_pooling2d_2 (MaxPooling2 (None, 4, 4, 16)          0         \n",
      "_________________________________________________________________\n",
      "flatten_1 (Flatten)          (None, 256)               0         \n",
      "_________________________________________________________________\n",
      "dense_1 (Dense)              (None, 128)               32896     \n",
      "_________________________________________________________________\n",
      "dense_2 (Dense)              (None, 96)                12384     \n",
      "_________________________________________________________________\n",
      "dense_3 (Dense)              (None, 10)                970       \n",
      "=================================================================\n",
      "Total params: 50,402\n",
      "Trainable params: 50,402\n",
      "Non-trainable params: 0\n",
      "_________________________________________________________________\n"
     ]
    }
   ],
   "source": [
    "# Building the Model Architecture\n",
    "\n",
    "model = Sequential()\n",
    "# Select 6 feature convolution kernels with a size of 5 * 5 (without offset), and get 66 feature maps. The size of each feature map is 32−5 + 1 = 2832−5 + 1 = 28.\n",
    "# That is, the number of neurons has been reduced from 10241024 to 28 ∗ 28 = 784 28 ∗ 28 = 784.\n",
    "# Parameters between input layer and C1 layer: 6 ∗ (5 ∗ 5 + 1)\n",
    "model.add(Conv2D(8, kernel_size=(3, 3), activation='tanh', input_shape=(28, 28, 1)))\n",
    "model.add(Conv2D(8, kernel_size=(3, 3), activation='tanh', input_shape=(28, 28, 1)))\n",
    "# The input of this layer is the output of the first layer, which is a 28 * 28 * 6 node matrix.\n",
    "# The size of the filter used in this layer is 2 * 2, and the step length and width are both 2, so the output matrix size of this layer is 14 * 14 * 6.\n",
    "model.add(MaxPooling2D(pool_size=(2, 2)))\n",
    "# The input matrix size of this layer is 14 * 14 * 6, the filter size used is 5 * 5, and the depth is 16. This layer does not use all 0 padding, and the step size is 1.\n",
    "# The output matrix size of this layer is 10 * 10 * 16. This layer has 5 * 5 * 6 * 16 + 16 = 2416 parameters\n",
    "model.add(Conv2D(16, kernel_size=(3, 3), activation='tanh'))\n",
    "model.add(Conv2D(16, kernel_size=(3, 3), activation='tanh'))\n",
    "# The input matrix size of this layer is 10 * 10 * 16. The size of the filter used in this layer is 2 * 2, and the length and width steps are both 2, so the output matrix size of this layer is 5 * 5 * 16.\n",
    "model.add(MaxPooling2D(pool_size=(2, 2)))\n",
    "# The input matrix size of this layer is 5 * 5 * 16. This layer is called a convolution layer in the LeNet-5 paper, but because the size of the filter is 5 * 5, #\n",
    "# So it is not different from the fully connected layer. If the nodes in the 5 * 5 * 16 matrix are pulled into a vector, then this layer is the same as the fully connected layer.\n",
    "# The number of output nodes in this layer is 120, with a total of 5 * 5 * 16 * 120 + 120 = 48120 parameters.\n",
    "model.add(Flatten())\n",
    "model.add(Dense(128, activation='tanh'))\n",
    "# The number of input nodes in this layer is 120 and the number of output nodes is 84. The total parameter is 120 * 84 + 84 = 10164 (w + b)\n",
    "model.add(Dense(96, activation='tanh'))\n",
    "# The number of input nodes in this layer is 84 and the number of output nodes is 10. The total parameter is 84 * 10 + 10 = 850\n",
    "model.add(Dense(10, activation='softmax'))\n",
    "\n",
    "model.summary()"
   ]
  },
  {
   "cell_type": "code",
   "execution_count": 4,
   "metadata": {},
   "outputs": [
    {
     "name": "stdout",
     "output_type": "stream",
     "text": [
      "WARNING:tensorflow:From C:\\Users\\Amit Kumar\\anaconda3\\envs\\lenet\\lib\\site-packages\\keras\\backend\\tensorflow_backend.py:422: The name tf.global_variables is deprecated. Please use tf.compat.v1.global_variables instead.\n",
      "\n",
      "Train on 60000 samples, validate on 10000 samples\n",
      "Epoch 1/20\n",
      "60000/60000 [==============================] - 17s 286us/step - loss: 0.2434 - accuracy: 0.9314 - val_loss: 0.0710 - val_accuracy: 0.9779\n",
      "Epoch 2/20\n",
      "60000/60000 [==============================] - 19s 309us/step - loss: 0.0661 - accuracy: 0.9806 - val_loss: 0.0516 - val_accuracy: 0.9840\n",
      "Epoch 3/20\n",
      "60000/60000 [==============================] - 18s 297us/step - loss: 0.0469 - accuracy: 0.9855 - val_loss: 0.0410 - val_accuracy: 0.9867\n",
      "Epoch 4/20\n",
      "60000/60000 [==============================] - 18s 292us/step - loss: 0.0359 - accuracy: 0.9892 - val_loss: 0.0394 - val_accuracy: 0.9866\n",
      "Epoch 5/20\n",
      "60000/60000 [==============================] - 17s 286us/step - loss: 0.0274 - accuracy: 0.9915 - val_loss: 0.0366 - val_accuracy: 0.9891\n",
      "Epoch 6/20\n",
      "60000/60000 [==============================] - 16s 272us/step - loss: 0.0227 - accuracy: 0.9932 - val_loss: 0.0338 - val_accuracy: 0.9894\n",
      "Epoch 7/20\n",
      "60000/60000 [==============================] - 16s 267us/step - loss: 0.0178 - accuracy: 0.9944 - val_loss: 0.0377 - val_accuracy: 0.9877\n",
      "Epoch 8/20\n",
      "60000/60000 [==============================] - 16s 271us/step - loss: 0.0151 - accuracy: 0.9954 - val_loss: 0.0347 - val_accuracy: 0.9901\n",
      "Epoch 9/20\n",
      "60000/60000 [==============================] - 18s 297us/step - loss: 0.0120 - accuracy: 0.9964 - val_loss: 0.0333 - val_accuracy: 0.9897\n",
      "Epoch 10/20\n",
      "60000/60000 [==============================] - 18s 302us/step - loss: 0.0098 - accuracy: 0.9971 - val_loss: 0.0376 - val_accuracy: 0.9894\n",
      "Epoch 11/20\n",
      "60000/60000 [==============================] - 22s 362us/step - loss: 0.0097 - accuracy: 0.9969 - val_loss: 0.0395 - val_accuracy: 0.9878\n",
      "Epoch 12/20\n",
      "60000/60000 [==============================] - 18s 304us/step - loss: 0.0073 - accuracy: 0.9979 - val_loss: 0.0379 - val_accuracy: 0.9884\n",
      "Epoch 13/20\n",
      "60000/60000 [==============================] - 17s 290us/step - loss: 0.0069 - accuracy: 0.9979 - val_loss: 0.0405 - val_accuracy: 0.9898\n",
      "Epoch 14/20\n",
      "60000/60000 [==============================] - 18s 297us/step - loss: 0.0078 - accuracy: 0.9975 - val_loss: 0.0370 - val_accuracy: 0.9895\n",
      "Epoch 15/20\n",
      "60000/60000 [==============================] - 18s 292us/step - loss: 0.0050 - accuracy: 0.9986 - val_loss: 0.0415 - val_accuracy: 0.9888\n",
      "Epoch 16/20\n",
      "60000/60000 [==============================] - 18s 298us/step - loss: 0.0050 - accuracy: 0.9985 - val_loss: 0.0376 - val_accuracy: 0.9893\n",
      "Epoch 17/20\n",
      "60000/60000 [==============================] - 17s 285us/step - loss: 0.0076 - accuracy: 0.9975 - val_loss: 0.0452 - val_accuracy: 0.9877\n",
      "Epoch 18/20\n",
      "60000/60000 [==============================] - 18s 299us/step - loss: 0.0040 - accuracy: 0.9988 - val_loss: 0.0523 - val_accuracy: 0.9877\n",
      "Epoch 19/20\n",
      "60000/60000 [==============================] - 18s 293us/step - loss: 0.0061 - accuracy: 0.9980 - val_loss: 0.0470 - val_accuracy: 0.9885\n",
      "Epoch 20/20\n",
      "60000/60000 [==============================] - 18s 294us/step - loss: 0.0036 - accuracy: 0.9990 - val_loss: 0.0440 - val_accuracy: 0.9894\n",
      "10000/10000 [==============================] - 1s 125us/step\n",
      "Test Loss: 0.043962679426772594\n",
      "Test accuracy: 0.9894000291824341\n"
     ]
    }
   ],
   "source": [
    "model.compile(loss=keras.metrics.categorical_crossentropy, optimizer=keras.optimizers.Adam(), metrics=['accuracy'])\n",
    "model.fit(x_train, y_train, batch_size=128, epochs=20, verbose=1, validation_data=(x_test, y_test))\n",
    "score = model.evaluate(x_test, y_test)\n",
    "print('Test Loss:', score[0])\n",
    "print('Test accuracy:', score[1])"
   ]
  },
  {
   "cell_type": "code",
   "execution_count": null,
   "metadata": {},
   "outputs": [],
   "source": []
  }
 ],
 "metadata": {
  "kernelspec": {
   "display_name": "Python 3",
   "language": "python",
   "name": "python3"
  },
  "language_info": {
   "codemirror_mode": {
    "name": "ipython",
    "version": 3
   },
   "file_extension": ".py",
   "mimetype": "text/x-python",
   "name": "python",
   "nbconvert_exporter": "python",
   "pygments_lexer": "ipython3",
   "version": "3.6.10"
  }
 },
 "nbformat": 4,
 "nbformat_minor": 2
}
