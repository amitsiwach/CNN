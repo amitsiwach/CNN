{
  "nbformat": 4,
  "nbformat_minor": 0,
  "metadata": {
    "colab": {
      "provenance": [],
      "mount_file_id": "1MY7VRwkcu8NPiNW596Cuc5O1HOuEmIFZ",
      "authorship_tag": "ABX9TyOLQjFqWPYowXW+nJOfzr8r",
      "include_colab_link": true
    },
    "kernelspec": {
      "name": "python3",
      "display_name": "Python 3"
    },
    "language_info": {
      "name": "python"
    },
    "accelerator": "GPU",
    "gpuClass": "standard"
  },
  "cells": [
    {
      "cell_type": "markdown",
      "metadata": {
        "id": "view-in-github",
        "colab_type": "text"
      },
      "source": [
        "<a href=\"https://colab.research.google.com/github/amitsiwach/CNN_basics/blob/main/Flower_classification_using_CNN.ipynb\" target=\"_parent\"><img src=\"https://colab.research.google.com/assets/colab-badge.svg\" alt=\"Open In Colab\"/></a>"
      ]
    },
    {
      "cell_type": "code",
      "execution_count": 1,
      "metadata": {
        "id": "WawVA54Fm7XE"
      },
      "outputs": [],
      "source": [
        "import pandas as pd\n",
        "import numpy as np"
      ]
    },
    {
      "cell_type": "code",
      "source": [
        "# if importing from Kaggle\n",
        "\n",
        "# !pip install -q kaggle\n",
        "\n",
        "# from google.colab import files\n",
        "# files.upload() #Upload the Kaggle.json file\n",
        "\n",
        "# #create a kaggle folder\n",
        "# ! mkdir ~/.kaggle\n",
        "\n",
        "# # Copying the Kaggle.json file to Kaggle folder\n",
        "# !cp kaggle.json ~/.kaggle/\n",
        "\n",
        "# # permission for the json to act\n",
        "# ! chmod 600 ~/.kaggle/kaggle.json\n",
        "\n",
        "# !kaggle datasets list \n",
        "\n",
        "# !kaggle datasets download -d alxmamaev/flowers-recognition\n",
        "\n",
        "# !unzip flowers-recognition.zip"
      ],
      "metadata": {
        "id": "tYk36MxqMRpF"
      },
      "execution_count": 2,
      "outputs": []
    },
    {
      "cell_type": "code",
      "source": [
        "import tensorflow.keras\n",
        "\n",
        "from keras.preprocessing.image import ImageDataGenerator"
      ],
      "metadata": {
        "id": "N4RVLilCsYEl"
      },
      "execution_count": 3,
      "outputs": []
    },
    {
      "cell_type": "code",
      "source": [
        "train_gen = ImageDataGenerator(rescale=1/255,\n",
        "                              rotation_range=45,\n",
        "                              width_shift_range=0.2,\n",
        "                              height_shift_range=0.2,\n",
        "                              shear_range=0.2,\n",
        "                              zoom_range=0.2,\n",
        "                              fill_mode='nearest',\n",
        "                              horizontal_flip=True,\n",
        "                              vertical_flip=True,\n",
        "                              validation_split=0.25\n",
        "                             )\n",
        "\n",
        "valid_data_gen = ImageDataGenerator(rescale = 1/255)"
      ],
      "metadata": {
        "id": "AZp-F-4FxKnt"
      },
      "execution_count": 4,
      "outputs": []
    },
    {
      "cell_type": "code",
      "source": [
        "train_data = train_gen.flow_from_directory(directory=\"/content/drive/MyDrive/Datasets/Flower classification/flowers/train\",\n",
        "                                             target_size=(200,200),\n",
        "                                             batch_size=500,\n",
        "                                             class_mode=\"categorical\")\n",
        "\n",
        "valid_data = valid_data_gen.flow_from_directory(directory=\"/content/drive/MyDrive/Datasets/Flower classification/flowers/validation\",\n",
        "                                             target_size=(200,200),\n",
        "                                             batch_size=500,\n",
        "                                             class_mode=\"categorical\")"
      ],
      "metadata": {
        "colab": {
          "base_uri": "https://localhost:8080/"
        },
        "id": "QL2ePzqG5Il9",
        "outputId": "386374f8-cb70-4bed-e0bb-830011f58e6b"
      },
      "execution_count": 5,
      "outputs": [
        {
          "output_type": "stream",
          "name": "stdout",
          "text": [
            "Found 3413 images belonging to 5 classes.\n",
            "Found 904 images belonging to 5 classes.\n"
          ]
        }
      ]
    },
    {
      "cell_type": "code",
      "source": [
        "from tensorflow.keras.models import Sequential\n",
        "from tensorflow.keras.layers import Conv2D, MaxPooling2D, Flatten, Dense, Dropout\n",
        "\n",
        "model = Sequential()\n",
        "model.add(Conv2D(filters=32, kernel_size = (3,3), padding = \"same\", activation = \"relu\", input_shape = [200,200,3]))\n",
        "model.add(MaxPooling2D(2,2))\n",
        "\n",
        "model.add(Conv2D(filters=64, kernel_size = (3,3), padding = \"same\", activation = \"relu\"))\n",
        "model.add(MaxPooling2D(2,2))\n",
        "\n",
        "model.add(Conv2D(filters=128, kernel_size = (3,3), padding = \"same\", activation = \"relu\"))\n",
        "model.add(MaxPooling2D(2,2))\n",
        "model.add(Flatten())\n",
        "\n",
        "model.add(Dense(128, activation = \"relu\"))\n",
        "model.add(Dropout(0.25))\n",
        "model.add(Dense(64, activation = \"relu\"))\n",
        "model.add(Dense(5, activation = \"softmax\"))\n",
        "model.summary()"
      ],
      "metadata": {
        "id": "y7H6Nsoa5isE",
        "colab": {
          "base_uri": "https://localhost:8080/"
        },
        "outputId": "96d52ee3-8526-4f67-98ea-897c9cb08b5a"
      },
      "execution_count": 6,
      "outputs": [
        {
          "output_type": "stream",
          "name": "stdout",
          "text": [
            "Model: \"sequential\"\n",
            "_________________________________________________________________\n",
            " Layer (type)                Output Shape              Param #   \n",
            "=================================================================\n",
            " conv2d (Conv2D)             (None, 200, 200, 32)      896       \n",
            "                                                                 \n",
            " max_pooling2d (MaxPooling2D  (None, 100, 100, 32)     0         \n",
            " )                                                               \n",
            "                                                                 \n",
            " conv2d_1 (Conv2D)           (None, 100, 100, 64)      18496     \n",
            "                                                                 \n",
            " max_pooling2d_1 (MaxPooling  (None, 50, 50, 64)       0         \n",
            " 2D)                                                             \n",
            "                                                                 \n",
            " conv2d_2 (Conv2D)           (None, 50, 50, 128)       73856     \n",
            "                                                                 \n",
            " max_pooling2d_2 (MaxPooling  (None, 25, 25, 128)      0         \n",
            " 2D)                                                             \n",
            "                                                                 \n",
            " flatten (Flatten)           (None, 80000)             0         \n",
            "                                                                 \n",
            " dense (Dense)               (None, 128)               10240128  \n",
            "                                                                 \n",
            " dropout (Dropout)           (None, 128)               0         \n",
            "                                                                 \n",
            " dense_1 (Dense)             (None, 64)                8256      \n",
            "                                                                 \n",
            " dense_2 (Dense)             (None, 5)                 325       \n",
            "                                                                 \n",
            "=================================================================\n",
            "Total params: 10,341,957\n",
            "Trainable params: 10,341,957\n",
            "Non-trainable params: 0\n",
            "_________________________________________________________________\n"
          ]
        }
      ]
    },
    {
      "cell_type": "code",
      "source": [
        "model.compile(loss='categorical_crossentropy',\n",
        "              optimizer='adam',\n",
        "              metrics=['accuracy'])\n",
        "\n",
        "early_stopping_cb = tensorflow.keras.callbacks.EarlyStopping(patience=5, restore_best_weights=True)\n",
        "\n",
        "model.fit(train_data, validation_data=(valid_data), epochs=50,batch_size=32)"
      ],
      "metadata": {
        "id": "EfhtnHeVau1J",
        "colab": {
          "base_uri": "https://localhost:8080/"
        },
        "outputId": "2a37c463-509f-4d99-edd0-57cdf4836066"
      },
      "execution_count": 7,
      "outputs": [
        {
          "output_type": "stream",
          "name": "stdout",
          "text": [
            "Epoch 1/50\n",
            "7/7 [==============================] - 473s 70s/step - loss: 1.9182 - accuracy: 0.2596 - val_loss: 1.5706 - val_accuracy: 0.2478\n",
            "Epoch 2/50\n",
            "7/7 [==============================] - 44s 6s/step - loss: 1.4810 - accuracy: 0.3592 - val_loss: 1.2981 - val_accuracy: 0.4126\n",
            "Epoch 3/50\n",
            "7/7 [==============================] - 44s 6s/step - loss: 1.3234 - accuracy: 0.4137 - val_loss: 1.2221 - val_accuracy: 0.4502\n",
            "Epoch 4/50\n",
            "7/7 [==============================] - 44s 6s/step - loss: 1.2449 - accuracy: 0.4580 - val_loss: 1.1608 - val_accuracy: 0.5221\n",
            "Epoch 5/50\n",
            "7/7 [==============================] - 44s 6s/step - loss: 1.1912 - accuracy: 0.4911 - val_loss: 1.0751 - val_accuracy: 0.5785\n",
            "Epoch 6/50\n",
            "7/7 [==============================] - 45s 7s/step - loss: 1.1485 - accuracy: 0.5233 - val_loss: 1.0593 - val_accuracy: 0.5730\n",
            "Epoch 7/50\n",
            "7/7 [==============================] - 44s 6s/step - loss: 1.1187 - accuracy: 0.5374 - val_loss: 1.0105 - val_accuracy: 0.5940\n",
            "Epoch 8/50\n",
            "7/7 [==============================] - 44s 6s/step - loss: 1.0771 - accuracy: 0.5637 - val_loss: 1.0047 - val_accuracy: 0.6018\n",
            "Epoch 9/50\n",
            "7/7 [==============================] - 44s 6s/step - loss: 1.0386 - accuracy: 0.5810 - val_loss: 0.9292 - val_accuracy: 0.6305\n",
            "Epoch 10/50\n",
            "7/7 [==============================] - 44s 6s/step - loss: 1.0188 - accuracy: 0.5883 - val_loss: 0.9920 - val_accuracy: 0.6073\n",
            "Epoch 11/50\n",
            "7/7 [==============================] - 45s 6s/step - loss: 0.9968 - accuracy: 0.6062 - val_loss: 0.8896 - val_accuracy: 0.6405\n",
            "Epoch 12/50\n",
            "7/7 [==============================] - 44s 6s/step - loss: 0.9653 - accuracy: 0.6118 - val_loss: 0.9009 - val_accuracy: 0.6427\n",
            "Epoch 13/50\n",
            "7/7 [==============================] - 44s 6s/step - loss: 0.9646 - accuracy: 0.6118 - val_loss: 0.8587 - val_accuracy: 0.6493\n",
            "Epoch 14/50\n",
            "7/7 [==============================] - 44s 6s/step - loss: 0.9561 - accuracy: 0.6253 - val_loss: 0.8881 - val_accuracy: 0.6383\n",
            "Epoch 15/50\n",
            "7/7 [==============================] - 44s 6s/step - loss: 0.9380 - accuracy: 0.6326 - val_loss: 0.8837 - val_accuracy: 0.6427\n",
            "Epoch 16/50\n",
            "7/7 [==============================] - 44s 6s/step - loss: 0.9283 - accuracy: 0.6431 - val_loss: 0.8450 - val_accuracy: 0.6670\n",
            "Epoch 17/50\n",
            "7/7 [==============================] - 45s 6s/step - loss: 0.9300 - accuracy: 0.6343 - val_loss: 0.8345 - val_accuracy: 0.6593\n",
            "Epoch 18/50\n",
            "7/7 [==============================] - 44s 6s/step - loss: 0.8910 - accuracy: 0.6554 - val_loss: 0.8270 - val_accuracy: 0.6681\n",
            "Epoch 19/50\n",
            "7/7 [==============================] - 44s 6s/step - loss: 0.8727 - accuracy: 0.6610 - val_loss: 0.7995 - val_accuracy: 0.6759\n",
            "Epoch 20/50\n",
            "7/7 [==============================] - 44s 6s/step - loss: 0.8636 - accuracy: 0.6610 - val_loss: 0.8206 - val_accuracy: 0.6737\n",
            "Epoch 21/50\n",
            "7/7 [==============================] - 44s 6s/step - loss: 0.8494 - accuracy: 0.6698 - val_loss: 0.7934 - val_accuracy: 0.6759\n",
            "Epoch 22/50\n",
            "7/7 [==============================] - 45s 6s/step - loss: 0.8375 - accuracy: 0.6839 - val_loss: 0.8087 - val_accuracy: 0.6737\n",
            "Epoch 23/50\n",
            "7/7 [==============================] - 43s 6s/step - loss: 0.8117 - accuracy: 0.6841 - val_loss: 0.7576 - val_accuracy: 0.7002\n",
            "Epoch 24/50\n",
            "7/7 [==============================] - 44s 6s/step - loss: 0.8042 - accuracy: 0.6809 - val_loss: 0.8162 - val_accuracy: 0.6670\n",
            "Epoch 25/50\n",
            "7/7 [==============================] - 44s 6s/step - loss: 0.8262 - accuracy: 0.6765 - val_loss: 0.8082 - val_accuracy: 0.6670\n",
            "Epoch 26/50\n",
            "7/7 [==============================] - 44s 6s/step - loss: 0.8262 - accuracy: 0.6774 - val_loss: 0.7526 - val_accuracy: 0.6914\n",
            "Epoch 27/50\n",
            "7/7 [==============================] - 45s 7s/step - loss: 0.7862 - accuracy: 0.6926 - val_loss: 0.7614 - val_accuracy: 0.6914\n",
            "Epoch 28/50\n",
            "7/7 [==============================] - 44s 6s/step - loss: 0.7697 - accuracy: 0.7032 - val_loss: 0.7720 - val_accuracy: 0.6914\n",
            "Epoch 29/50\n",
            "7/7 [==============================] - 44s 6s/step - loss: 0.7718 - accuracy: 0.7000 - val_loss: 0.7854 - val_accuracy: 0.6936\n",
            "Epoch 30/50\n",
            "7/7 [==============================] - 44s 6s/step - loss: 0.7512 - accuracy: 0.7205 - val_loss: 0.7557 - val_accuracy: 0.6892\n",
            "Epoch 31/50\n",
            "7/7 [==============================] - 44s 6s/step - loss: 0.7496 - accuracy: 0.7134 - val_loss: 0.7300 - val_accuracy: 0.6914\n",
            "Epoch 32/50\n",
            "7/7 [==============================] - 44s 6s/step - loss: 0.7533 - accuracy: 0.7190 - val_loss: 0.7428 - val_accuracy: 0.6903\n",
            "Epoch 33/50\n",
            "7/7 [==============================] - 45s 6s/step - loss: 0.7487 - accuracy: 0.7120 - val_loss: 0.7040 - val_accuracy: 0.7157\n",
            "Epoch 34/50\n",
            "7/7 [==============================] - 44s 6s/step - loss: 0.7248 - accuracy: 0.7252 - val_loss: 0.7214 - val_accuracy: 0.7069\n",
            "Epoch 35/50\n",
            "7/7 [==============================] - 44s 6s/step - loss: 0.7160 - accuracy: 0.7237 - val_loss: 0.7044 - val_accuracy: 0.7124\n",
            "Epoch 36/50\n",
            "7/7 [==============================] - 43s 6s/step - loss: 0.7076 - accuracy: 0.7252 - val_loss: 0.7055 - val_accuracy: 0.7235\n",
            "Epoch 37/50\n",
            "7/7 [==============================] - 43s 6s/step - loss: 0.7121 - accuracy: 0.7296 - val_loss: 0.7020 - val_accuracy: 0.7013\n",
            "Epoch 38/50\n",
            "7/7 [==============================] - 45s 6s/step - loss: 0.7104 - accuracy: 0.7281 - val_loss: 0.6867 - val_accuracy: 0.7257\n",
            "Epoch 39/50\n",
            "7/7 [==============================] - 44s 6s/step - loss: 0.7074 - accuracy: 0.7296 - val_loss: 0.7180 - val_accuracy: 0.7190\n",
            "Epoch 40/50\n",
            "7/7 [==============================] - 44s 6s/step - loss: 0.7057 - accuracy: 0.7249 - val_loss: 0.6723 - val_accuracy: 0.7268\n",
            "Epoch 41/50\n",
            "7/7 [==============================] - 44s 6s/step - loss: 0.6957 - accuracy: 0.7325 - val_loss: 0.7325 - val_accuracy: 0.7168\n",
            "Epoch 42/50\n",
            "7/7 [==============================] - 44s 6s/step - loss: 0.6980 - accuracy: 0.7322 - val_loss: 0.6868 - val_accuracy: 0.7290\n",
            "Epoch 43/50\n",
            "7/7 [==============================] - 45s 7s/step - loss: 0.7075 - accuracy: 0.7266 - val_loss: 0.7052 - val_accuracy: 0.7179\n",
            "Epoch 44/50\n",
            "7/7 [==============================] - 44s 6s/step - loss: 0.6713 - accuracy: 0.7369 - val_loss: 0.6818 - val_accuracy: 0.7389\n",
            "Epoch 45/50\n",
            "7/7 [==============================] - 44s 6s/step - loss: 0.6832 - accuracy: 0.7419 - val_loss: 0.7385 - val_accuracy: 0.7046\n",
            "Epoch 46/50\n",
            "7/7 [==============================] - 44s 6s/step - loss: 0.6860 - accuracy: 0.7395 - val_loss: 0.6525 - val_accuracy: 0.7456\n",
            "Epoch 47/50\n",
            "7/7 [==============================] - 44s 6s/step - loss: 0.6447 - accuracy: 0.7553 - val_loss: 0.6618 - val_accuracy: 0.7389\n",
            "Epoch 48/50\n",
            "7/7 [==============================] - 44s 6s/step - loss: 0.6586 - accuracy: 0.7521 - val_loss: 0.6536 - val_accuracy: 0.7467\n",
            "Epoch 49/50\n",
            "7/7 [==============================] - 43s 6s/step - loss: 0.6505 - accuracy: 0.7518 - val_loss: 0.6641 - val_accuracy: 0.7456\n",
            "Epoch 50/50\n",
            "7/7 [==============================] - 43s 6s/step - loss: 0.6572 - accuracy: 0.7480 - val_loss: 0.6318 - val_accuracy: 0.7489\n"
          ]
        },
        {
          "output_type": "execute_result",
          "data": {
            "text/plain": [
              "<keras.callbacks.History at 0x7f64a9280250>"
            ]
          },
          "metadata": {},
          "execution_count": 7
        }
      ]
    },
    {
      "cell_type": "code",
      "source": [],
      "metadata": {
        "id": "D0sPrSNcfgtL"
      },
      "execution_count": 7,
      "outputs": []
    }
  ]
}